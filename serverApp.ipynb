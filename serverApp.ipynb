{
 "cells": [
  {
   "cell_type": "code",
   "execution_count": 9,
   "id": "5d8277d8",
   "metadata": {},
   "outputs": [],
   "source": [
    "from flask import Flask, redirect, url_for, render_template, request\n",
    "import lime\n",
    "from lime import lime_image"
   ]
  },
  {
   "cell_type": "code",
   "execution_count": 10,
   "id": "c0b521f4",
   "metadata": {},
   "outputs": [],
   "source": [
    "app = Flask(__name__)"
   ]
  },
  {
   "cell_type": "code",
   "execution_count": 11,
   "id": "fbd04b4b",
   "metadata": {},
   "outputs": [],
   "source": [
    "@app.route(\"/\")\n",
    "def home():\n",
    "    return render_template(\"index.html\")"
   ]
  },
  {
   "cell_type": "code",
   "execution_count": 12,
   "id": "a05c74fe",
   "metadata": {},
   "outputs": [],
   "source": [
    "@app.route(\"/explain\")\n",
    "def explain():\n",
    "    return render_template(\"explanation.html\")"
   ]
  },
  {
   "cell_type": "code",
   "execution_count": null,
   "id": "7470fa90",
   "metadata": {},
   "outputs": [
    {
     "name": "stdout",
     "output_type": "stream",
     "text": [
      " * Serving Flask app \"__main__\" (lazy loading)\n",
      " * Environment: production\n",
      "\u001b[31m   WARNING: This is a development server. Do not use it in a production deployment.\u001b[0m\n",
      "\u001b[2m   Use a production WSGI server instead.\u001b[0m\n",
      " * Debug mode: off\n"
     ]
    },
    {
     "name": "stderr",
     "output_type": "stream",
     "text": [
      " * Running on http://0.0.0.0:3000/ (Press CTRL+C to quit)\n",
      "[2021-08-01 06:32:46,222] ERROR in app: Exception on / [GET]\n",
      "Traceback (most recent call last):\n",
      "  File \"/home/jackie/anaconda3/envs/lime-env/lib/python3.7/site-packages/flask/app.py\", line 2447, in wsgi_app\n",
      "    response = self.full_dispatch_request()\n",
      "  File \"/home/jackie/anaconda3/envs/lime-env/lib/python3.7/site-packages/flask/app.py\", line 1952, in full_dispatch_request\n",
      "    rv = self.handle_user_exception(e)\n",
      "  File \"/home/jackie/anaconda3/envs/lime-env/lib/python3.7/site-packages/flask/app.py\", line 1821, in handle_user_exception\n",
      "    reraise(exc_type, exc_value, tb)\n",
      "  File \"/home/jackie/anaconda3/envs/lime-env/lib/python3.7/site-packages/flask/_compat.py\", line 39, in reraise\n",
      "    raise value\n",
      "  File \"/home/jackie/anaconda3/envs/lime-env/lib/python3.7/site-packages/flask/app.py\", line 1950, in full_dispatch_request\n",
      "    rv = self.dispatch_request()\n",
      "  File \"/home/jackie/anaconda3/envs/lime-env/lib/python3.7/site-packages/flask/app.py\", line 1936, in dispatch_request\n",
      "    return self.view_functions[rule.endpoint](**req.view_args)\n",
      "  File \"<ipython-input-11-8e174568e663>\", line 3, in home\n",
      "    return render_template(\"index.html\")\n",
      "  File \"/home/jackie/anaconda3/envs/lime-env/lib/python3.7/site-packages/flask/templating.py\", line 138, in render_template\n",
      "    ctx.app.jinja_env.get_or_select_template(template_name_or_list),\n",
      "  File \"/home/jackie/anaconda3/envs/lime-env/lib/python3.7/site-packages/jinja2/environment.py\", line 1068, in get_or_select_template\n",
      "    return self.get_template(template_name_or_list, parent, globals)\n",
      "  File \"/home/jackie/anaconda3/envs/lime-env/lib/python3.7/site-packages/jinja2/environment.py\", line 997, in get_template\n",
      "    return self._load_template(name, globals)\n",
      "  File \"/home/jackie/anaconda3/envs/lime-env/lib/python3.7/site-packages/jinja2/environment.py\", line 958, in _load_template\n",
      "    template = self.loader.load(self, name, self.make_globals(globals))\n",
      "  File \"/home/jackie/anaconda3/envs/lime-env/lib/python3.7/site-packages/jinja2/loaders.py\", line 125, in load\n",
      "    source, filename, uptodate = self.get_source(environment, name)\n",
      "  File \"/home/jackie/anaconda3/envs/lime-env/lib/python3.7/site-packages/flask/templating.py\", line 60, in get_source\n",
      "    return self._get_source_fast(environment, template)\n",
      "  File \"/home/jackie/anaconda3/envs/lime-env/lib/python3.7/site-packages/flask/templating.py\", line 89, in _get_source_fast\n",
      "    raise TemplateNotFound(template)\n",
      "jinja2.exceptions.TemplateNotFound: index.html\n",
      "127.0.0.1 - - [01/Aug/2021 06:32:46] \"\u001b[35m\u001b[1mGET / HTTP/1.1\u001b[0m\" 500 -\n"
     ]
    }
   ],
   "source": [
    "if __name__ == \"__main__\":\n",
    "    app.run(host=\"0.0.0.0\", port=3000)"
   ]
  },
  {
   "cell_type": "code",
   "execution_count": null,
   "id": "263c1cac",
   "metadata": {},
   "outputs": [],
   "source": []
  }
 ],
 "metadata": {
  "kernelspec": {
   "display_name": "Python 3",
   "language": "python",
   "name": "python3"
  },
  "language_info": {
   "codemirror_mode": {
    "name": "ipython",
    "version": 3
   },
   "file_extension": ".py",
   "mimetype": "text/x-python",
   "name": "python",
   "nbconvert_exporter": "python",
   "pygments_lexer": "ipython3",
   "version": "3.7.11"
  }
 },
 "nbformat": 4,
 "nbformat_minor": 5
}
