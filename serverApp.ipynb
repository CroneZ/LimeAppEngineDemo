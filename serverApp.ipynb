{
 "cells": [
  {
   "cell_type": "code",
   "execution_count": 22,
   "id": "5d8277d8",
   "metadata": {},
   "outputs": [],
   "source": [
    "from flask import Flask, redirect, url_for, render_template, request, send_from_directory\n",
    "import lime\n",
    "from lime import lime_image\n",
    "from skimage.segmentation import mark_boundaries\n",
    "import matplotlib.pyplot as plt\n",
    "from skimage.transform import resize\n",
    "import tensorflow as tf\n",
    "import os\n",
    "import skimage.io"
   ]
  },
  {
   "cell_type": "code",
   "execution_count": 23,
   "id": "c0b521f4",
   "metadata": {},
   "outputs": [],
   "source": [
    "UPLOAD_FOLDER = '/tmp'\n",
    "ALLOWED_EXTENSIONS = {'txt', 'pdf', 'png', 'jpg', 'jpeg', 'gif'}\n",
    "\n",
    "app = Flask(__name__)\n",
    "app.config['UPLOAD_FOLDER'] = UPLOAD_FOLDER"
   ]
  },
  {
   "cell_type": "code",
   "execution_count": 24,
   "id": "fbd04b4b",
   "metadata": {},
   "outputs": [],
   "source": [
    "@app.route(\"/\")\n",
    "def home():\n",
    "    return render_template(\"index.html\")"
   ]
  },
  {
   "cell_type": "code",
   "execution_count": 25,
   "id": "6ce0dbc9",
   "metadata": {},
   "outputs": [],
   "source": [
    "@app.route('/tmp/<name>')\n",
    "def download_file(name):\n",
    "    return send_from_directory(app.config[\"UPLOAD_FOLDER\"], name)"
   ]
  },
  {
   "cell_type": "code",
   "execution_count": 26,
   "id": "37ae6240",
   "metadata": {},
   "outputs": [],
   "source": [
    "@app.route(\"/explanation\", methods = ['POST'])\n",
    "def explanation():\n",
    "    image = request.files['filename']\n",
    "    image.save(os.path.join(\"/tmp/image.jpg\"))\n",
    "    image = skimage.io.imread(fname='/tmp/image.jpg')\n",
    "    explainer = lime_image.LimeImageExplainer()\n",
    "    model = tf.keras.models.load_model('model/')\n",
    "    image = resize(image, (150, 150))\n",
    "    \n",
    "    explanation = explainer.explain_instance(image, model.predict, top_labels=2, hide_color=0, num_samples=1000)\n",
    "    \n",
    "    path1 = \"/tmp/figure1.png\"\n",
    "    path2 = \"/tmp/figure2.png\"\n",
    "\n",
    "    #remove any old figure1 if exist\n",
    "    try:\n",
    "        os.remove(path1)\n",
    "    except:\n",
    "        print(\"File for path1 does not exist\")\n",
    "    temp, mask = explanation.get_image_and_mask(explanation.top_labels[0], positive_only=True, num_features=5, hide_rest=True)\n",
    "    plt.imsave(path1,mark_boundaries(temp , mask))\n",
    "    \n",
    "    #remove any old figure2 if exist\n",
    "    try:\n",
    "        os.remove(path2)\n",
    "    except:\n",
    "        print(\"File for path2 does not exist\")\n",
    "    temp, mask = explanation.get_image_and_mask(explanation.top_labels[0], positive_only=True, num_features=5, hide_rest=False)\n",
    "    plt.imsave(path2,mark_boundaries(temp , mask))\n",
    "    \n",
    "    while True:\n",
    "        if(os.path.isfile(path1) and os.path.isfile(path2)):\n",
    "            break\n",
    "    return render_template(\"explanation.html\")"
   ]
  },
  {
   "cell_type": "code",
   "execution_count": 27,
   "id": "7470fa90",
   "metadata": {},
   "outputs": [
    {
     "name": "stdout",
     "output_type": "stream",
     "text": [
      " * Serving Flask app \"__main__\" (lazy loading)\n",
      " * Environment: production\n",
      "\u001b[31m   WARNING: This is a development server. Do not use it in a production deployment.\u001b[0m\n",
      "\u001b[2m   Use a production WSGI server instead.\u001b[0m\n",
      " * Debug mode: off\n"
     ]
    },
    {
     "name": "stderr",
     "output_type": "stream",
     "text": [
      " * Running on http://0.0.0.0:8080/ (Press CTRL+C to quit)\n",
      "127.0.0.1 - - [03/Aug/2021 09:27:00] \"\u001b[37mGET / HTTP/1.1\u001b[0m\" 200 -\n"
     ]
    },
    {
     "data": {
      "application/vnd.jupyter.widget-view+json": {
       "model_id": "465c252646634b2190fa884f8895d1a9",
       "version_major": 2,
       "version_minor": 0
      },
      "text/plain": [
       "  0%|          | 0/1000 [00:00<?, ?it/s]"
      ]
     },
     "metadata": {},
     "output_type": "display_data"
    },
    {
     "name": "stderr",
     "output_type": "stream",
     "text": [
      "127.0.0.1 - - [03/Aug/2021 09:27:21] \"\u001b[37mPOST /explanation HTTP/1.1\u001b[0m\" 200 -\n",
      "127.0.0.1 - - [03/Aug/2021 09:27:21] \"\u001b[37mGET /tmp/figure1.png HTTP/1.1\u001b[0m\" 200 -\n",
      "127.0.0.1 - - [03/Aug/2021 09:27:21] \"\u001b[37mGET /tmp/figure2.png HTTP/1.1\u001b[0m\" 200 -\n"
     ]
    }
   ],
   "source": [
    "if __name__ == \"__main__\":\n",
    "    app.run(host=\"0.0.0.0\", port=8080)"
   ]
  },
  {
   "cell_type": "code",
   "execution_count": null,
   "id": "263c1cac",
   "metadata": {},
   "outputs": [],
   "source": []
  }
 ],
 "metadata": {
  "kernelspec": {
   "display_name": "Python 3",
   "language": "python",
   "name": "python3"
  },
  "language_info": {
   "codemirror_mode": {
    "name": "ipython",
    "version": 3
   },
   "file_extension": ".py",
   "mimetype": "text/x-python",
   "name": "python",
   "nbconvert_exporter": "python",
   "pygments_lexer": "ipython3",
   "version": "3.7.11"
  }
 },
 "nbformat": 4,
 "nbformat_minor": 5
}
