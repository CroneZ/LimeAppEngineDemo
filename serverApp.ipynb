{
 "cells": [
  {
   "cell_type": "code",
   "execution_count": 6,
   "id": "5d8277d8",
   "metadata": {},
   "outputs": [],
   "source": [
    "from flask import Flask, redirect, url_for, render_template, request\n",
    "import lime\n",
    "from lime import lime_image\n",
    "from skimage.segmentation import mark_boundaries\n",
    "import matplotlib.pyplot as plt\n",
    "from skimage.transform import resize\n",
    "import tensorflow as tf\n",
    "import os\n",
    "import cv2"
   ]
  },
  {
   "cell_type": "code",
   "execution_count": 7,
   "id": "c0b521f4",
   "metadata": {},
   "outputs": [],
   "source": [
    "app = Flask(__name__)"
   ]
  },
  {
   "cell_type": "code",
   "execution_count": 8,
   "id": "fbd04b4b",
   "metadata": {},
   "outputs": [],
   "source": [
    "@app.route(\"/\")\n",
    "def home():\n",
    "    return render_template(\"index.html\")"
   ]
  },
  {
   "cell_type": "code",
   "execution_count": 9,
   "id": "37ae6240",
   "metadata": {},
   "outputs": [],
   "source": [
    "@app.route(\"/explanation\", methods = ['POST'])\n",
    "def explanation():\n",
    "    image = request.files['filename']\n",
    "    image.save(os.path.join(os.getcwd(),\"static\",\"image.jpg\"))\n",
    "    image = cv2.imread('static/image.jpg')\n",
    "    explainer = lime_image.LimeImageExplainer()\n",
    "    model = tf.keras.models.load_model('model/')\n",
    "    image = resize(image, (150, 150))\n",
    "    \n",
    "    explanation = explainer.explain_instance(image, model.predict, top_labels=2, hide_color=0, num_samples=1000)\n",
    "    \n",
    "    temp, mask = explanation.get_image_and_mask(explanation.top_labels[0], positive_only=True, num_features=5, hide_rest=True)\n",
    "    plt.imsave(os.path.join(os.getcwd(),\"static\",\"figure1.png\"),mark_boundaries(temp , mask))\n",
    "    \n",
    "    temp, mask = explanation.get_image_and_mask(explanation.top_labels[0], positive_only=True, num_features=5, hide_rest=False)\n",
    "    plt.imsave(os.path.join(os.getcwd(),\"static\",\"figure2.png\"),mark_boundaries(temp , mask))\n",
    "    \n",
    "    return render_template(\"explanation.html\")"
   ]
  },
  {
   "cell_type": "code",
   "execution_count": 10,
   "id": "7470fa90",
   "metadata": {},
   "outputs": [
    {
     "name": "stdout",
     "output_type": "stream",
     "text": [
      " * Serving Flask app \"__main__\" (lazy loading)\n",
      " * Environment: production\n",
      "\u001b[31m   WARNING: This is a development server. Do not use it in a production deployment.\u001b[0m\n",
      "\u001b[2m   Use a production WSGI server instead.\u001b[0m\n",
      " * Debug mode: off\n"
     ]
    },
    {
     "name": "stderr",
     "output_type": "stream",
     "text": [
      " * Running on http://0.0.0.0:3000/ (Press CTRL+C to quit)\n",
      "127.0.0.1 - - [01/Aug/2021 15:49:07] \"\u001b[37mGET / HTTP/1.1\u001b[0m\" 200 -\n",
      "[2021-08-01 15:49:11,287] ERROR in app: Exception on /explanation [POST]\n",
      "Traceback (most recent call last):\n",
      "  File \"/home/jackie/anaconda3/envs/lime-env/lib/python3.7/site-packages/flask/app.py\", line 2447, in wsgi_app\n",
      "    response = self.full_dispatch_request()\n",
      "  File \"/home/jackie/anaconda3/envs/lime-env/lib/python3.7/site-packages/flask/app.py\", line 1952, in full_dispatch_request\n",
      "    rv = self.handle_user_exception(e)\n",
      "  File \"/home/jackie/anaconda3/envs/lime-env/lib/python3.7/site-packages/flask/app.py\", line 1821, in handle_user_exception\n",
      "    reraise(exc_type, exc_value, tb)\n",
      "  File \"/home/jackie/anaconda3/envs/lime-env/lib/python3.7/site-packages/flask/_compat.py\", line 39, in reraise\n",
      "    raise value\n",
      "  File \"/home/jackie/anaconda3/envs/lime-env/lib/python3.7/site-packages/flask/app.py\", line 1950, in full_dispatch_request\n",
      "    rv = self.dispatch_request()\n",
      "  File \"/home/jackie/anaconda3/envs/lime-env/lib/python3.7/site-packages/flask/app.py\", line 1936, in dispatch_request\n",
      "    return self.view_functions[rule.endpoint](**req.view_args)\n",
      "  File \"<ipython-input-9-99280a1666e3>\", line 7, in explanation\n",
      "    model = tf.keras.models.load_model('model/')\n",
      "  File \"/home/jackie/anaconda3/envs/lime-env/lib/python3.7/site-packages/tensorflow_core/python/keras/saving/save.py\", line 149, in load_model\n",
      "    loader_impl.parse_saved_model(filepath)\n",
      "  File \"/home/jackie/anaconda3/envs/lime-env/lib/python3.7/site-packages/tensorflow_core/python/saved_model/loader_impl.py\", line 83, in parse_saved_model\n",
      "    constants.SAVED_MODEL_FILENAME_PB))\n",
      "OSError: SavedModel file does not exist at: model//{saved_model.pbtxt|saved_model.pb}\n",
      "127.0.0.1 - - [01/Aug/2021 15:49:11] \"\u001b[35m\u001b[1mPOST /explanation HTTP/1.1\u001b[0m\" 500 -\n"
     ]
    }
   ],
   "source": [
    "if __name__ == \"__main__\":\n",
    "    app.run(host=\"0.0.0.0\", port=3000)"
   ]
  },
  {
   "cell_type": "code",
   "execution_count": null,
   "id": "263c1cac",
   "metadata": {},
   "outputs": [],
   "source": []
  }
 ],
 "metadata": {
  "kernelspec": {
   "display_name": "Python 3",
   "language": "python",
   "name": "python3"
  },
  "language_info": {
   "codemirror_mode": {
    "name": "ipython",
    "version": 3
   },
   "file_extension": ".py",
   "mimetype": "text/x-python",
   "name": "python",
   "nbconvert_exporter": "python",
   "pygments_lexer": "ipython3",
   "version": "3.7.11"
  }
 },
 "nbformat": 4,
 "nbformat_minor": 5
}
